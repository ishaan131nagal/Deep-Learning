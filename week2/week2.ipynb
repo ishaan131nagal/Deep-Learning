{
 "cells": [
  {
   "cell_type": "code",
   "execution_count": 14,
   "id": "0ee17b2b-7421-4478-9c4c-c83cf6c13465",
   "metadata": {},
   "outputs": [],
   "source": [
    "import torch\n",
    "import math"
   ]
  },
  {
   "cell_type": "code",
   "execution_count": 6,
   "id": "dee66e54-e69a-467b-b912-d7017a5274ca",
   "metadata": {},
   "outputs": [
    {
     "name": "stdout",
     "output_type": "stream",
     "text": [
      "pytorch gradient at x=1 tensor(34.)\n"
     ]
    }
   ],
   "source": [
    "#q1\n",
    "a=torch.tensor(1.0,requires_grad=True)\n",
    "b=torch.tensor(1.0,requires_grad=True)\n",
    "x=2*a+3*b\n",
    "y=5*a*a+3*b*b*b\n",
    "z=2*x+3*y\n",
    "z.backward()\n",
    "print(\"pytorch gradient at x=1\",a.grad)"
   ]
  },
  {
   "cell_type": "code",
   "execution_count": 31,
   "id": "cafe33fc-b34f-463a-bdeb-3787effd830b",
   "metadata": {},
   "outputs": [
    {
     "name": "stdout",
     "output_type": "stream",
     "text": [
      "pytorch gradient tensor(0.)\n"
     ]
    }
   ],
   "source": [
    "def relu(q):\n",
    "    if q>0:\n",
    "        return q\n",
    "    return q*0\n",
    "x=torch.tensor(5.0,requires_grad=True)\n",
    "w=torch.tensor(1.0,requires_grad=True)\n",
    "b=torch.tensor(-10.0,requires_grad=True)\n",
    "u=w*x\n",
    "v=u+b\n",
    "a=relu(v)\n",
    "a.backward()\n",
    "print(\"pytorch gradient\",w.grad)"
   ]
  },
  {
   "cell_type": "code",
   "execution_count": 22,
   "id": "d49fcf18-6122-40dc-98ad-190044916d24",
   "metadata": {},
   "outputs": [
    {
     "name": "stdout",
     "output_type": "stream",
     "text": [
      "tensor(0.9991, grad_fn=<MulBackward0>)\n",
      "pytorch gradient tensor(0.0018)\n"
     ]
    }
   ],
   "source": [
    "def relu(q):\n",
    "    return  1/(1+torch.exp(-q))\n",
    "x=torch.tensor(2.0,requires_grad=True)\n",
    "w=torch.tensor(3.0,requires_grad=True)\n",
    "b=torch.tensor(1.0,requires_grad=True)\n",
    "u=w*x\n",
    "v=u+b\n",
    "a=relu(v)\n",
    "print(a)\n",
    "a.backward()\n",
    "print(\"pytorch gradient\",w.grad)"
   ]
  },
  {
   "cell_type": "code",
   "execution_count": 32,
   "id": "f128f308-5449-46c7-803c-7ba8abf1fb1f",
   "metadata": {},
   "outputs": [
    {
     "name": "stdout",
     "output_type": "stream",
     "text": [
      "tensor(-2.0206e-14)\n"
     ]
    }
   ],
   "source": [
    "x=torch.tensor(5.0,requires_grad=True)\n",
    "b=2*x\n",
    "a=x*x\n",
    "c=torch.sin(x)\n",
    "d=torch.exp(-a-b-c)\n",
    "d.backward()\n",
    "print(x.grad)"
   ]
  },
  {
   "cell_type": "code",
   "execution_count": 35,
   "id": "31bb7ade-af32-4e95-9652-2e56b27d8af7",
   "metadata": {},
   "outputs": [
    {
     "data": {
      "text/plain": [
       "tensor(326.)"
      ]
     },
     "execution_count": 35,
     "metadata": {},
     "output_type": "execute_result"
    }
   ],
   "source": [
    "x=torch.tensor(2.0,requires_grad=True)\n",
    "y=8*x**4+3*x**3+7*x**2+6*x+3\n",
    "y.backward()\n",
    "x.grad"
   ]
  },
  {
   "cell_type": "code",
   "execution_count": 36,
   "id": "c899034f-48a0-4ec4-bfee-d65a6831b096",
   "metadata": {},
   "outputs": [
    {
     "name": "stdout",
     "output_type": "stream",
     "text": [
      "pytorch gradient tensor(-0.1340)\n"
     ]
    }
   ],
   "source": [
    "x=torch.tensor(1.0,requires_grad=True)\n",
    "y=torch.tensor(1.0,requires_grad=True)\n",
    "z=torch.tensor(1.0,requires_grad=True)\n",
    "a=2*x\n",
    "b=torch.sin(y)\n",
    "c=a/b\n",
    "d=c*z\n",
    "e=torch.log(d+1)\n",
    "f=torch.tanh(e)\n",
    "f.backward()\n",
    "print(\"pytorch gradient\",y.grad)"
   ]
  },
  {
   "cell_type": "code",
   "execution_count": null,
   "id": "10ea4ca3-bb70-4543-ad99-d5799368e021",
   "metadata": {},
   "outputs": [],
   "source": []
  }
 ],
 "metadata": {
  "kernelspec": {
   "display_name": "Python 3 (ipykernel)",
   "language": "python",
   "name": "python3"
  },
  "language_info": {
   "codemirror_mode": {
    "name": "ipython",
    "version": 3
   },
   "file_extension": ".py",
   "mimetype": "text/x-python",
   "name": "python",
   "nbconvert_exporter": "python",
   "pygments_lexer": "ipython3",
   "version": "3.11.7"
  }
 },
 "nbformat": 4,
 "nbformat_minor": 5
}
